{
 "cells": [
  {
   "cell_type": "markdown",
   "id": "f3612a8d",
   "metadata": {},
   "source": [
    "# Heart Disease"
   ]
  },
  {
   "cell_type": "markdown",
   "id": "3dc370d4",
   "metadata": {},
   "source": [
    "## I. Project Tasks\n",
    "\n",
    "### Define your scope\n",
    "My primary goal is to continue using the skills I learned on Codecademy. Specifically, I want to clean/tidy data, look for trends, and create a visualization that tells a story. This is a low-key project; machine learning and data mining algorithms are outside of my scope. After thinking it over, I think I will look for correlations and run statistical tests (i.e. Pearson) in Jupyter, and display the highest correlating variables in Tableau.\n",
    "\n",
    "### Decide on a question or topic\n",
    "I decided to choose a topic related to medicine - heart disease. I dispense all kinds of medications that treat heart conditions on a daily basis.\n",
    "\n",
    "### Find a dataset\n",
    "I went to kaggle and found the dataset \"Heart Disease Dataset\" provided by Mexwell (link here https://www.kaggle.com/datasets/mexwell/heart-disease-dataset).\n",
    "\n",
    "### Define your problem\n",
    "After a brief glance at the dataset and the documentation, I would like to find what makes people with heart disease different from those without heart disease. \n",
    "\n",
    "### Load and check data\n",
    "Documentation is mostly clear (the Units column consists of units and/or ranges and/or descriptions\n",
    ") and I can identify what each variable is measuring, except for the ST segment variables. Specifically, for the 'oldpeak' variable, I do not know what the numbers represents (documentation says the units are 'depression'), and how it relates to the 'ST slope' variable. I was not familiar with the term 'old peak', and decided to familiarize myself with it before getting too far along.\n",
    "\n",
    "I found that the units for _oldpeak_ are likely mm on an EKG. The first hits on Google were unhelpful, and I am making this assumption based on what I read about ST slopes.\n",
    "\n",
    "Image describing ST slopes: https://litfl.com/wp-content/uploads/2018/10/ST-segment-depression-upsloping-downsloping-horizontal.png\n",
    "\n",
    "\n",
    "### Data wrangling and tidying (in progress)\n",
    "Kaggle gave this dataset a score of 10.00 out of 10.00 for usability, but one person on Kaggle commented that about 150 people had a cholesterol level of zero, so I will review the dataset for missing values or other possible errors. \n",
    "\n",
    "### Find the story (to do)\n",
    "What, in one sentence, do you want your audience to take away from your project? You may have to create all of your visualizations, do all of your explorations, and even get feedback before you know what it is. But, take a moment to decide the one thing people should take away from your project and make that the first thing. Make that story the easiest one to find.\n",
    "\n",
    "### Communicate your findings (to do)\n",
    "This could be in the shape of a report, a Tableau Dashboard, a slide deck, etc. The best way to decide is to imagine your audience. Who are they? Where do you envision reaching them? What is the best medium for that?\\\n",
    "Do you want to reach other people interested in your topic? Do you want to persuade someone to care about something? Do you want to focus on business stakeholders? Where might you find each group? Tailor your project to that imagined scenario.\\\n",
    "From there, you can start to create a project to communicate your story with them.\n",
    "\n",
    "### Wrap up (to do)\n",
    "This step might be the most impactful for finding a job. Now that you’ve written your report, created your deck, or built your dashboard, check your work. Go through and proofread. Try to view your project from wherever you decided to host it. Make sure that all of the links work, and ask a friend (or visit the forums) to find someone to go through it and tell you if there are any inconsistencies, jumps of logic, or confusing parts. This final round of checks is essential for creating a polished project."
   ]
  },
  {
   "cell_type": "markdown",
   "id": "fab245f4",
   "metadata": {},
   "source": [
    "## II. Load and check data"
   ]
  },
  {
   "cell_type": "code",
   "execution_count": null,
   "id": "cf5f0055",
   "metadata": {},
   "outputs": [],
   "source": [
    "import pandas as pd\n",
    "heart_df = pd.read_csv(r'C:\\Users\\jsbit\\OneDrive\\Documents\\Coding 2023\\Git\\heart-disease\\heart_statlog_cleveland_hungary_final.csv', encoding_errors='replace')"
   ]
  },
  {
   "cell_type": "code",
   "execution_count": 2,
   "id": "86606932",
   "metadata": {},
   "outputs": [
    {
     "name": "stdout",
     "output_type": "stream",
     "text": [
      "There were 1190 participants in this dataset.\n"
     ]
    }
   ],
   "source": [
    "print('There were', str(len(heart_df)), 'participants in this dataset.')\n",
    "# Although 1,190 participants is a lot, 'heart disease' is a large umbrella term and can affect almost anyone.\n",
    "# Therefore, I estimate that this dataset not meet power and we can't extrapolate findings to the general public."
   ]
  },
  {
   "cell_type": "code",
   "execution_count": 3,
   "id": "41afdd85",
   "metadata": {},
   "outputs": [
    {
     "name": "stdout",
     "output_type": "stream",
     "text": [
      "The column names are:\n",
      " Index(['age', 'sex', 'chest pain type', 'resting bp s', 'cholesterol',\n",
      "       'fasting blood sugar', 'resting ecg', 'max heart rate',\n",
      "       'exercise angina', 'oldpeak', 'ST slope', 'target'],\n",
      "      dtype='object')\n"
     ]
    }
   ],
   "source": [
    "print(\"The column names are:\\n\", heart_df.columns)"
   ]
  },
  {
   "cell_type": "code",
   "execution_count": 4,
   "id": "12e226e9",
   "metadata": {},
   "outputs": [],
   "source": [
    "# Explanation of changes to variable names:\n",
    "    # Because of my German heritage, I prefer EKG instead of ECG.\n",
    "    # I see an inconsistenct in abbreviating 'bp', but spelling out 'blood sugar', so I will abbreviate them all.\n",
    "\n",
    "heart_df = heart_df.rename(columns={'resting ecg': 'ekg', \n",
    "                                    'chest pain type': 'pain type', \n",
    "                                    'fasting blood sugar': 'fbs', \n",
    "                                    'max heart rate': 'max hr', \n",
    "                                    'resting bp s': 'bp'})"
   ]
  },
  {
   "cell_type": "code",
   "execution_count": 5,
   "id": "f241f7b2",
   "metadata": {},
   "outputs": [
    {
     "name": "stdout",
     "output_type": "stream",
     "text": [
      "The new column names are:\n",
      " Index(['age', 'sex', 'pain_type', 'bp', 'cholesterol', 'fbs', 'ekg', 'max_hr',\n",
      "       'exercise_angina', 'oldpeak', 'ST_slope', 'target'],\n",
      "      dtype='object')\n"
     ]
    }
   ],
   "source": [
    "# While I'm at it, might as well replace spaces with underscores.\n",
    "heart_df.columns = [variable.replace(' ', '_') for variable in heart_df]\n",
    "\n",
    "print(\"The new column names are:\\n\", heart_df.columns)"
   ]
  },
  {
   "cell_type": "markdown",
   "id": "46141558",
   "metadata": {},
   "source": [
    "### Initial Exploration"
   ]
  },
  {
   "cell_type": "code",
   "execution_count": 8,
   "id": "250f0681",
   "metadata": {},
   "outputs": [
    {
     "name": "stdout",
     "output_type": "stream",
     "text": [
      "               age          sex    pain_type           bp  cholesterol  \\\n",
      "count  1190.000000  1190.000000  1190.000000  1190.000000  1190.000000   \n",
      "mean     53.720168     0.763866     3.232773   132.153782   210.363866   \n",
      "std       9.358203     0.424884     0.935480    18.368823   101.420489   \n",
      "min      28.000000     0.000000     1.000000     0.000000     0.000000   \n",
      "25%      47.000000     1.000000     3.000000   120.000000   188.000000   \n",
      "50%      54.000000     1.000000     4.000000   130.000000   229.000000   \n",
      "75%      60.000000     1.000000     4.000000   140.000000   269.750000   \n",
      "max      77.000000     1.000000     4.000000   200.000000   603.000000   \n",
      "\n",
      "               fbs          ekg       max_hr  exercise_angina      oldpeak  \\\n",
      "count  1190.000000  1190.000000  1190.000000      1190.000000  1190.000000   \n",
      "mean      0.213445     0.698319   139.732773         0.387395     0.922773   \n",
      "std       0.409912     0.870359    25.517636         0.487360     1.086337   \n",
      "min       0.000000     0.000000    60.000000         0.000000    -2.600000   \n",
      "25%       0.000000     0.000000   121.000000         0.000000     0.000000   \n",
      "50%       0.000000     0.000000   140.500000         0.000000     0.600000   \n",
      "75%       0.000000     2.000000   160.000000         1.000000     1.600000   \n",
      "max       1.000000     2.000000   202.000000         1.000000     6.200000   \n",
      "\n",
      "          ST_slope       target  \n",
      "count  1190.000000  1190.000000  \n",
      "mean      1.624370     0.528571  \n",
      "std       0.610459     0.499393  \n",
      "min       0.000000     0.000000  \n",
      "25%       1.000000     0.000000  \n",
      "50%       2.000000     1.000000  \n",
      "75%       2.000000     1.000000  \n",
      "max       3.000000     1.000000  \n"
     ]
    }
   ],
   "source": [
    "print(heart_df.describe(include='all'))"
   ]
  },
  {
   "cell_type": "markdown",
   "id": "60a0a628",
   "metadata": {},
   "source": [
    "#### Observations\n",
    "* Each variable has a count of 1,190, so it's free of NAN.\n",
    "* Age:\n",
    "    * I am somewhat surprised that the max age was only 77; it would be nice to know the inclusion criteria for these studies (i.e. if there was a max age for some but not others).\n",
    "    * It looks like this will have a normal distribution; the distance of the 25th and 75th percentile from the median and the distance of the min and max from the median are similar.\n",
    "* Sex: The mean and median indicate that most participants were male.\n",
    "* Resting blood pressure (systolic):\n",
    "    * Minimum was zero; not a realistic number.\n",
    "    "
   ]
  }
 ],
 "metadata": {
  "kernelspec": {
   "display_name": "Python 3 (ipykernel)",
   "language": "python",
   "name": "python3"
  },
  "language_info": {
   "codemirror_mode": {
    "name": "ipython",
    "version": 3
   },
   "file_extension": ".py",
   "mimetype": "text/x-python",
   "name": "python",
   "nbconvert_exporter": "python",
   "pygments_lexer": "ipython3",
   "version": "3.11.5"
  }
 },
 "nbformat": 4,
 "nbformat_minor": 5
}
