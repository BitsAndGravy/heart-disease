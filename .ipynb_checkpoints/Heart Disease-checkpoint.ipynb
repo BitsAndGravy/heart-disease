{
 "cells": [
  {
   "cell_type": "markdown",
   "id": "f3612a8d",
   "metadata": {},
   "source": [
    "# Heart Disease"
   ]
  },
  {
   "cell_type": "markdown",
   "id": "3dc370d4",
   "metadata": {},
   "source": [
    "## I. Project Tasks\n",
    "\n",
    "### Define your scope\n",
    "My primary goal is to continue using the skills I learned on Codecademy. Specifically, I want to clean/tidy data, look for trends, and create a visualization that tells a story. This is a low-key project; machine learning and data mining algorithms are outside of my scope. After thinking it over, I think I will look for correlations and run statistical tests (i.e. Pearson) in Jupyter, and display the highest correlating variables in Tableau.\n",
    "\n",
    "### Decide on a question or topic\n",
    "I decided to choose a topic related to medicine - heart disease. I dispense all kinds of medications that treat heart conditions on a daily basis.\n",
    "\n",
    "### Find a dataset\n",
    "I went to kaggle and found the dataset \"Heart Disease Dataset\" provided by Mexwell (link here https://www.kaggle.com/datasets/mexwell/heart-disease-dataset).\n",
    "\n",
    "### Define your problem\n",
    "After a brief glance at the dataset and the documentation, I would like to find what makes people with heart disease different from those without heart disease. \n",
    "\n",
    "### Load and check data\n",
    "Documentation is mostly clear (the Units column consists of units and/or ranges and/or descriptions\n",
    ") and I can identify what each variable is measuring, except for the ST segment variables. Specifically, for the 'oldpeak' variable, I do not know what the numbers represents (documentation says the units are 'depression'), and how it relates to the 'ST slope' variable. I was not familiar with the term 'old peak', and decided to familiarize myself with it before getting too far along.\n",
    "\n",
    "I found that the units for _oldpeak_ are likely mm on an EKG. The first hits on Google were unhelpful, and I am making this assumption based on what I read about ST slopes.\n",
    "\n",
    "Image describing ST slopes: https://litfl.com/wp-content/uploads/2018/10/ST-segment-depression-upsloping-downsloping-horizontal.png\n",
    "\n",
    "\n",
    "### Data wrangling and tidying (in progress)\n",
    "Kaggle gave this dataset a score of 10.00 out of 10.00 for usability, but one person on Kaggle commented that about 150 people had a cholesterol level of zero, so I will review the dataset for missing values or other possible errors. \n",
    "\n",
    "### Find the story (to do)\n",
    "What, in one sentence, do you want your audience to take away from your project? You may have to create all of your visualizations, do all of your explorations, and even get feedback before you know what it is. But, take a moment to decide the one thing people should take away from your project and make that the first thing. Make that story the easiest one to find.\n",
    "\n",
    "### Communicate your findings (to do)\n",
    "This could be in the shape of a report, a Tableau Dashboard, a slide deck, etc. The best way to decide is to imagine your audience. Who are they? Where do you envision reaching them? What is the best medium for that?\\\n",
    "Do you want to reach other people interested in your topic? Do you want to persuade someone to care about something? Do you want to focus on business stakeholders? Where might you find each group? Tailor your project to that imagined scenario.\\\n",
    "From there, you can start to create a project to communicate your story with them.\n",
    "\n",
    "### Wrap up (to do)\n",
    "This step might be the most impactful for finding a job. Now that you’ve written your report, created your deck, or built your dashboard, check your work. Go through and proofread. Try to view your project from wherever you decided to host it. Make sure that all of the links work, and ask a friend (or visit the forums) to find someone to go through it and tell you if there are any inconsistencies, jumps of logic, or confusing parts. This final round of checks is essential for creating a polished project."
   ]
  },
  {
   "cell_type": "markdown",
   "id": "04563723",
   "metadata": {},
   "source": [
    "## II. Load data"
   ]
  },
  {
   "cell_type": "code",
   "execution_count": 1,
   "id": "2591e33b",
   "metadata": {},
   "outputs": [],
   "source": [
    "import pandas as pd\n",
    "# pd.options.mode.copy_on_write = True\n",
    "import numpy as np\n",
    "import seaborn as sns\n",
    "import matplotlib.pyplot as plt\n",
    "from scipy import stats\n",
    "from scipy.stats import chi2_contingency\n",
    "\n",
    "heart_df = pd.read_csv(r'C:\\Users\\jsbit\\OneDrive\\Documents\\Coding 2023\\Git\\heart-disease\\heart_statlog_cleveland_hungary_final.csv', encoding_errors='replace')"
   ]
  },
  {
   "cell_type": "code",
   "execution_count": 2,
   "id": "177fbff4",
   "metadata": {},
   "outputs": [
    {
     "name": "stdout",
     "output_type": "stream",
     "text": [
      "There were 1190 participants in this dataset.\n"
     ]
    }
   ],
   "source": [
    "print('There were', str(len(heart_df)), 'participants in this dataset.')\n",
    "# Although 1,190 participants is a lot, 'heart disease' is a large umbrella term and can affect almost anyone.\n",
    "# Therefore, I estimate that this dataset not meet power and we can't extrapolate findings to the general public."
   ]
  },
  {
   "cell_type": "code",
   "execution_count": 3,
   "id": "41afdd85",
   "metadata": {},
   "outputs": [
    {
     "name": "stdout",
     "output_type": "stream",
     "text": [
      "The column names are:\n",
      " Index(['age', 'sex', 'chest pain type', 'resting bp s', 'cholesterol',\n",
      "       'fasting blood sugar', 'resting ecg', 'max heart rate',\n",
      "       'exercise angina', 'oldpeak', 'ST slope', 'target'],\n",
      "      dtype='object')\n"
     ]
    }
   ],
   "source": [
    "print(\"The column names are:\\n\", heart_df.columns)"
   ]
  },
  {
   "cell_type": "code",
   "execution_count": 4,
   "id": "36ec3dad",
   "metadata": {},
   "outputs": [],
   "source": [
    "# Explanation of changes to variable names:\n",
    "    # Because of my German heritage, I prefer EKG instead of ECG.\n",
    "    # I see an inconsistenct in abbreviating 'bp', but spelling out 'blood sugar', so I will abbreviate them all.\n",
    "        # For clarification I added 'systolic' before 'bp'\n",
    "    # I think 'ST depression' is a better variable name than 'oldpeak'. \n",
    "        # I can't find much information on why it is called old peak\n",
    "        # It's a measure of the ST depression in mm on an EKG\n",
    "        # If it's a measure of depression, why is it called peak?\n",
    "    # I decided I prefer the variable name 'stress_test' over 'exercise_angina', \n",
    "        # especially since I will be converting values to 'angina' or 'no angina'\n",
    "    # I prefer 'heart disease category' to 'target', it feels more descriptive\n",
    "\n",
    "heart_df = heart_df.rename(columns={'resting ecg': 'ekg', \n",
    "                                    'chest pain type': 'pain type', \n",
    "                                    'fasting blood sugar': 'fbs', \n",
    "                                    'max heart rate': 'max hr', \n",
    "                                    'resting bp s': 'systolic bp',\n",
    "                                    'oldpeak': 'ST depression',\n",
    "                                    'exercise angina': 'stress test',\n",
    "                                    'target': 'heart disease category'})"
   ]
  },
  {
   "cell_type": "code",
   "execution_count": 5,
   "id": "f241f7b2",
   "metadata": {},
   "outputs": [
    {
     "name": "stdout",
     "output_type": "stream",
     "text": [
      "The new column names are:\n",
      " Index(['age', 'sex', 'pain_type', 'systolic_bp', 'cholesterol', 'fbs', 'ekg',\n",
      "       'max_hr', 'stress_test', 'ST_depression', 'ST_slope',\n",
      "       'heart_disease_category'],\n",
      "      dtype='object')\n"
     ]
    }
   ],
   "source": [
    "# While I'm at it, might as well replace spaces with underscores.\n",
    "heart_df.columns = [variable.replace(' ', '_') for variable in heart_df]\n",
    "\n",
    "print(\"The new column names are:\\n\", heart_df.columns)"
   ]
  },
  {
   "cell_type": "markdown",
   "id": "2976e041",
   "metadata": {},
   "source": [
    "## III. Initial Exploratory Data Analysis\n",
    "### Dataset overview and descriptive statistics"
   ]
  },
  {
   "cell_type": "code",
   "execution_count": 6,
   "id": "c431213c",
   "metadata": {},
   "outputs": [
    {
     "name": "stdout",
     "output_type": "stream",
     "text": [
      "               age          sex    pain_type  systolic_bp  cholesterol  \\\n",
      "count  1190.000000  1190.000000  1190.000000  1190.000000  1190.000000   \n",
      "mean     53.720168     0.763866     3.232773   132.153782   210.363866   \n",
      "std       9.358203     0.424884     0.935480    18.368823   101.420489   \n",
      "min      28.000000     0.000000     1.000000     0.000000     0.000000   \n",
      "25%      47.000000     1.000000     3.000000   120.000000   188.000000   \n",
      "50%      54.000000     1.000000     4.000000   130.000000   229.000000   \n",
      "75%      60.000000     1.000000     4.000000   140.000000   269.750000   \n",
      "max      77.000000     1.000000     4.000000   200.000000   603.000000   \n",
      "\n",
      "               fbs          ekg       max_hr  stress_test  ST_depression  \\\n",
      "count  1190.000000  1190.000000  1190.000000  1190.000000    1190.000000   \n",
      "mean      0.213445     0.698319   139.732773     0.387395       0.922773   \n",
      "std       0.409912     0.870359    25.517636     0.487360       1.086337   \n",
      "min       0.000000     0.000000    60.000000     0.000000      -2.600000   \n",
      "25%       0.000000     0.000000   121.000000     0.000000       0.000000   \n",
      "50%       0.000000     0.000000   140.500000     0.000000       0.600000   \n",
      "75%       0.000000     2.000000   160.000000     1.000000       1.600000   \n",
      "max       1.000000     2.000000   202.000000     1.000000       6.200000   \n",
      "\n",
      "          ST_slope  heart_disease_category  \n",
      "count  1190.000000             1190.000000  \n",
      "mean      1.624370                0.528571  \n",
      "std       0.610459                0.499393  \n",
      "min       0.000000                0.000000  \n",
      "25%       1.000000                0.000000  \n",
      "50%       2.000000                1.000000  \n",
      "75%       2.000000                1.000000  \n",
      "max       3.000000                1.000000  \n"
     ]
    }
   ],
   "source": [
    "print(heart_df.describe(include='all'))"
   ]
  },
  {
   "cell_type": "markdown",
   "id": "f6136052",
   "metadata": {},
   "source": [
    "* Each variable has a count of 1,190, so it's free of NAN.\n",
    "* I know that some values are zero; this is just initial exploration and I will review these numbers again later.\n",
    "* Age:\n",
    "    * I am somewhat surprised that the max age was only 77; it would be nice to know the inclusion criteria for these studies (i.e. if there was a max age for some but not others).\n",
    "    * It looks like this will have a normal distribution; the distance of the 25th and 75th percentile from the median and the distance of the min and max from the median are similar.\n",
    "* Sex: The mean and median indicate that most participants were male.\n",
    "* Resting blood pressure (systolic):\n",
    "    * Minimum was zero; not a realistic number.\n",
    "    * The average seems lower than I might have guessed. I am assuming that lots of people have high blood pressure (i.e. systolic over 130 mmHg), hopefully it isn't skewed a lot by missing/zero values.\n",
    "* Cholesterol:\n",
    "    * Minimum was zero; not a realistic number.\n",
    "    * It seems like most people had an elevated cholesterol (over 200 mg/dL)\n",
    "* Fasting blood sugar over 120 mg/dL: Looks like most people were normal (value of zero).\n",
    "* Max heart rate (during stress test and in beats per minute, I assume):\n",
    "    * I don't normally see stress test results, so this is interesting data to me.\n",
    "    * A min of 60 bpm - someone must be on some strong beta blockers or experienced angina rather quickly.\n",
    "* Exercise-induced angina: Looks like most people did not experience angina.\n",
    "* Oldpeak: This could get trippy - a negative ST depression is ST elevation (min of -2.6 mm)\n",
    "* Target: A slight majority were classified as having heart disease.    "
   ]
  },
  {
   "cell_type": "markdown",
   "id": "2d483969",
   "metadata": {},
   "source": [
    "## IV. Data wrangling and tidying\n",
    "\n",
    "### Data types and observations"
   ]
  },
  {
   "cell_type": "code",
   "execution_count": 7,
   "id": "e31bde4f",
   "metadata": {},
   "outputs": [
    {
     "name": "stdout",
     "output_type": "stream",
     "text": [
      "<class 'pandas.core.frame.DataFrame'>\n",
      "RangeIndex: 1190 entries, 0 to 1189\n",
      "Data columns (total 12 columns):\n",
      " #   Column                  Non-Null Count  Dtype  \n",
      "---  ------                  --------------  -----  \n",
      " 0   age                     1190 non-null   int64  \n",
      " 1   sex                     1190 non-null   int64  \n",
      " 2   pain_type               1190 non-null   int64  \n",
      " 3   systolic_bp             1190 non-null   int64  \n",
      " 4   cholesterol             1190 non-null   int64  \n",
      " 5   fbs                     1190 non-null   int64  \n",
      " 6   ekg                     1190 non-null   int64  \n",
      " 7   max_hr                  1190 non-null   int64  \n",
      " 8   stress_test             1190 non-null   int64  \n",
      " 9   ST_depression           1190 non-null   float64\n",
      " 10  ST_slope                1190 non-null   int64  \n",
      " 11  heart_disease_category  1190 non-null   int64  \n",
      "dtypes: float64(1), int64(11)\n",
      "memory usage: 111.7 KB\n",
      "None\n"
     ]
    }
   ],
   "source": [
    "print(heart_df.info())"
   ]
  },
  {
   "cell_type": "markdown",
   "id": "6d64c16e",
   "metadata": {},
   "source": [
    "#### Data values\n",
    "* Leave as numbers:\n",
    "    * age\n",
    "    * systolic_bp \n",
    "    * cholesterol\n",
    "    * max_hr\n",
    "    * ST_depression\n",
    "    \n",
    "* Change from numbers to description (using description found in documentation unless otherwise noted):\n",
    "    * sex: 0: female, 1: male\n",
    "    * pain_type: 1: typical, 2: atypical, 3: non-anginal, 4: asymptomatic\n",
    "    * fbs (using my own words): 0: normal, 1: elevated\n",
    "    * ekg (using my own words): 0: normal, 1: ST abnormality, 2: LVH (abbreviated from left ventricular hypertrophy)\n",
    "    * stress_test: 0: no angina, 1: angina\n",
    "    * ST_slope: 0 (my own words - not found in documentation): not evaluated, 1: upsloping, 2: flat, 3: downsloping\n",
    "    * heart_disease_category: 0: normal, 1: heart disease"
   ]
  },
  {
   "cell_type": "code",
   "execution_count": 8,
   "id": "65b72767",
   "metadata": {},
   "outputs": [
    {
     "name": "stdout",
     "output_type": "stream",
     "text": [
      "Values for the sex variable: ['male' 'female']\n",
      "Values for pain type: ['atypical' 'non-anginal' 'asymptomatic' 'typical']\n",
      "Values for fasting blood sugar: ['normal' 'elevated']\n",
      "Values for EKG: ['normal' 'ST abnormality' 'LVH']\n",
      "Values for stress test: ['no angina' 'angina']\n",
      "Values for ST slope: ['upsloping' 'flat' 'downsloping' 'not evaluated']\n",
      "Values for heart disease category: ['normal' 'heart disease']\n"
     ]
    }
   ],
   "source": [
    "heart_df['sex'] = heart_df.sex.replace(\n",
    "    0, 'female').replace(\n",
    "    1, 'male')\n",
    "\n",
    "heart_df['pain_type'] = heart_df.pain_type.replace(\n",
    "    1, 'typical').replace(\n",
    "    2, 'atypical').replace(\n",
    "    3, 'non-anginal').replace(\n",
    "    4, 'asymptomatic')\n",
    "\n",
    "heart_df['fbs'] = heart_df.fbs.replace(\n",
    "    0, 'normal').replace(\n",
    "    1, 'elevated')\n",
    "\n",
    "heart_df['ekg'] = heart_df.ekg.replace(\n",
    "    0, 'normal').replace(\n",
    "    1, 'ST abnormality').replace(\n",
    "    2, 'LVH')\n",
    "\n",
    "heart_df['stress_test'] = heart_df.stress_test.replace(\n",
    "    0, 'no angina').replace(\n",
    "    1, 'angina')\n",
    "\n",
    "heart_df['ST_slope'] = heart_df.ST_slope.replace(\n",
    "    0, 'not evaluated').replace(\n",
    "    1, 'upsloping').replace(\n",
    "    2, 'flat').replace(\n",
    "    3, 'downsloping')\n",
    "\n",
    "heart_df['heart_disease_category'] = heart_df.heart_disease_category.replace(\n",
    "    0, 'normal').replace(\n",
    "    1, 'heart disease')\n",
    "\n",
    "print('Values for the sex variable:', str(heart_df.sex.unique()))\n",
    "print('Values for pain type:', str(heart_df.pain_type.unique()))\n",
    "print('Values for fasting blood sugar:', str(heart_df.fbs.unique()))\n",
    "print('Values for EKG:', str(heart_df.ekg.unique()))\n",
    "print('Values for stress test:', str(heart_df.stress_test.unique()))\n",
    "print('Values for ST slope:', str(heart_df.ST_slope.unique()))\n",
    "print('Values for heart disease category:', str(heart_df.heart_disease_category.unique()))"
   ]
  },
  {
   "cell_type": "markdown",
   "id": "c78d9a4d",
   "metadata": {},
   "source": [
    "#### Data types\n",
    "* Appropriate data type:\n",
    "    * Age\n",
    "    * Blood pressure, systolic (systolic_bp)\n",
    "    * Cholesterol\n",
    "    * Max heart rate\n",
    "    * ST depression\n",
    "    \n",
    "* Needs changed:\n",
    "    * Sex: Binary nominal categotical\n",
    "    * Pain type: Nominal categorical\n",
    "    * EKG: Nominal categorical\n",
    "    * Fasting blood sugar (fbs)\n",
    "    * Exercise-induced angina: Binary nominal categorical\n",
    "    * ST slope: Ordinal categorical\n",
    "    * Heart disease category: Nominal categorical  "
   ]
  },
  {
   "cell_type": "code",
   "execution_count": 9,
   "id": "088841aa",
   "metadata": {},
   "outputs": [
    {
     "name": "stdout",
     "output_type": "stream",
     "text": [
      "Data types for all variables:\n",
      " age                          int64\n",
      "sex                       category\n",
      "pain_type                 category\n",
      "systolic_bp                  int64\n",
      "cholesterol                  int64\n",
      "fbs                       category\n",
      "ekg                       category\n",
      "max_hr                       int64\n",
      "stress_test               category\n",
      "ST_depression              float64\n",
      "ST_slope                  category\n",
      "heart_disease_category    category\n",
      "dtype: object\n"
     ]
    }
   ],
   "source": [
    "heart_df = heart_df.astype({\n",
    "    'sex': 'category',\n",
    "    'pain_type': 'category',\n",
    "    'ekg': 'category',\n",
    "    'fbs': 'category', \n",
    "    'stress_test': 'category',\n",
    "    'ST_slope': 'category',\n",
    "    'heart_disease_category': 'category'})\n",
    "\n",
    "print('Data types for all variables:\\n', heart_df.dtypes)"
   ]
  },
  {
   "cell_type": "markdown",
   "id": "046cba04",
   "metadata": {},
   "source": [
    "### Checking for and handling duplicates"
   ]
  },
  {
   "cell_type": "code",
   "execution_count": 10,
   "id": "1ddf1fb3",
   "metadata": {
    "scrolled": true
   },
   "outputs": [
    {
     "name": "stdout",
     "output_type": "stream",
     "text": [
      "     index  age     sex     pain_type  systolic_bp  cholesterol       fbs  \\\n",
      "0      163   49  female      atypical          110          208    normal   \n",
      "1      604   58    male   non-anginal          150          219    normal   \n",
      "2      887   63    male       typical          145          233  elevated   \n",
      "3      888   67    male  asymptomatic          160          286    normal   \n",
      "4      889   67    male  asymptomatic          120          229    normal   \n",
      "..     ...  ...     ...           ...          ...          ...       ...   \n",
      "267   1156   42    male   non-anginal          130          180    normal   \n",
      "268   1157   61    male  asymptomatic          140          207    normal   \n",
      "269   1158   66    male  asymptomatic          160          228    normal   \n",
      "270   1159   46    male  asymptomatic          140          311    normal   \n",
      "271   1160   71  female  asymptomatic          112          149    normal   \n",
      "\n",
      "                ekg  max_hr stress_test  ST_depression     ST_slope  \\\n",
      "0            normal     160   no angina            0.0    upsloping   \n",
      "1    ST abnormality     118      angina            0.0         flat   \n",
      "2               LVH     150   no angina            2.3  downsloping   \n",
      "3               LVH     108      angina            1.5         flat   \n",
      "4               LVH     129      angina            2.6         flat   \n",
      "..              ...     ...         ...            ...          ...   \n",
      "267          normal     150   no angina            0.0    upsloping   \n",
      "268             LVH     138      angina            1.9    upsloping   \n",
      "269             LVH     138   no angina            2.3    upsloping   \n",
      "270          normal     120      angina            1.8         flat   \n",
      "271          normal     125   no angina            1.6         flat   \n",
      "\n",
      "    heart_disease_category  \n",
      "0                   normal  \n",
      "1            heart disease  \n",
      "2                   normal  \n",
      "3            heart disease  \n",
      "4            heart disease  \n",
      "..                     ...  \n",
      "267                 normal  \n",
      "268          heart disease  \n",
      "269                 normal  \n",
      "270          heart disease  \n",
      "271                 normal  \n",
      "\n",
      "[272 rows x 13 columns]\n",
      "0       163\n",
      "1       604\n",
      "2       887\n",
      "3       888\n",
      "4       889\n",
      "5       890\n",
      "6       891\n",
      "7       892\n",
      "8       893\n",
      "9       894\n",
      "10      895\n",
      "11      896\n",
      "12      897\n",
      "13      898\n",
      "14      899\n",
      "15      900\n",
      "16      901\n",
      "17      902\n",
      "18      903\n",
      "19      904\n",
      "20      905\n",
      "21      906\n",
      "22      907\n",
      "23      908\n",
      "24      909\n",
      "25      910\n",
      "26      911\n",
      "27      912\n",
      "28      913\n",
      "29      914\n",
      "30      915\n",
      "31      916\n",
      "32      917\n",
      "33      918\n",
      "34      919\n",
      "35      920\n",
      "36      921\n",
      "37      922\n",
      "38      923\n",
      "39      924\n",
      "40      925\n",
      "41      926\n",
      "42      927\n",
      "43      928\n",
      "44      929\n",
      "45      930\n",
      "46      931\n",
      "47      932\n",
      "48      933\n",
      "49      934\n",
      "50      935\n",
      "51      936\n",
      "52      937\n",
      "53      938\n",
      "54      939\n",
      "55      940\n",
      "56      941\n",
      "57      942\n",
      "58      943\n",
      "59      944\n",
      "60      945\n",
      "61      946\n",
      "62      947\n",
      "63      948\n",
      "64      949\n",
      "65      950\n",
      "66      951\n",
      "67      952\n",
      "68      953\n",
      "69      954\n",
      "70      955\n",
      "71      956\n",
      "72      957\n",
      "73      958\n",
      "74      959\n",
      "75      960\n",
      "76      961\n",
      "77      962\n",
      "78      963\n",
      "79      964\n",
      "80      965\n",
      "81      966\n",
      "82      967\n",
      "83      968\n",
      "84      969\n",
      "85      970\n",
      "86      971\n",
      "87      972\n",
      "88      973\n",
      "89      975\n",
      "90      976\n",
      "91      977\n",
      "92      978\n",
      "93      979\n",
      "94      980\n",
      "95      981\n",
      "96      982\n",
      "97      983\n",
      "98      984\n",
      "99      985\n",
      "100     986\n",
      "101     987\n",
      "102     988\n",
      "103     989\n",
      "104     990\n",
      "105     991\n",
      "106     992\n",
      "107     993\n",
      "108     994\n",
      "109     995\n",
      "110     996\n",
      "111     997\n",
      "112     998\n",
      "113     999\n",
      "114    1000\n",
      "115    1001\n",
      "116    1002\n",
      "117    1003\n",
      "118    1004\n",
      "119    1005\n",
      "120    1006\n",
      "121    1007\n",
      "122    1008\n",
      "123    1009\n",
      "124    1010\n",
      "125    1011\n",
      "126    1012\n",
      "127    1013\n",
      "128    1014\n",
      "129    1015\n",
      "130    1016\n",
      "131    1017\n",
      "132    1018\n",
      "133    1019\n",
      "134    1020\n",
      "135    1021\n",
      "136    1022\n",
      "137    1023\n",
      "138    1024\n",
      "139    1025\n",
      "140    1026\n",
      "141    1027\n",
      "142    1028\n",
      "143    1029\n",
      "144    1030\n",
      "145    1031\n",
      "146    1032\n",
      "147    1033\n",
      "148    1034\n",
      "149    1035\n",
      "150    1036\n",
      "151    1037\n",
      "152    1038\n",
      "153    1039\n",
      "154    1040\n",
      "155    1041\n",
      "156    1042\n",
      "157    1043\n",
      "158    1044\n",
      "159    1045\n",
      "160    1046\n",
      "161    1047\n",
      "162    1048\n",
      "163    1049\n",
      "164    1050\n",
      "165    1051\n",
      "166    1052\n",
      "167    1054\n",
      "168    1055\n",
      "169    1056\n",
      "170    1057\n",
      "171    1058\n",
      "172    1059\n",
      "173    1060\n",
      "174    1061\n",
      "175    1062\n",
      "176    1063\n",
      "177    1064\n",
      "178    1065\n",
      "179    1066\n",
      "180    1067\n",
      "181    1068\n",
      "182    1069\n",
      "183    1070\n",
      "184    1071\n",
      "185    1072\n",
      "186    1073\n",
      "187    1074\n",
      "188    1075\n",
      "189    1076\n",
      "190    1077\n",
      "191    1078\n",
      "192    1080\n",
      "193    1081\n",
      "194    1082\n",
      "195    1083\n",
      "196    1084\n",
      "197    1085\n",
      "198    1086\n",
      "199    1087\n",
      "200    1088\n",
      "201    1089\n",
      "202    1090\n",
      "203    1091\n",
      "204    1092\n",
      "205    1093\n",
      "206    1094\n",
      "207    1095\n",
      "208    1096\n",
      "209    1097\n",
      "210    1098\n",
      "211    1099\n",
      "212    1100\n",
      "213    1101\n",
      "214    1102\n",
      "215    1103\n",
      "216    1104\n",
      "217    1105\n",
      "218    1106\n",
      "219    1107\n",
      "220    1108\n",
      "221    1109\n",
      "222    1110\n",
      "223    1111\n",
      "224    1112\n",
      "225    1113\n",
      "226    1114\n",
      "227    1115\n",
      "228    1116\n",
      "229    1117\n",
      "230    1118\n",
      "231    1119\n",
      "232    1120\n",
      "233    1121\n",
      "234    1122\n",
      "235    1123\n",
      "236    1124\n",
      "237    1125\n",
      "238    1126\n",
      "239    1127\n",
      "240    1128\n",
      "241    1129\n",
      "242    1130\n",
      "243    1131\n",
      "244    1132\n",
      "245    1133\n",
      "246    1134\n",
      "247    1135\n",
      "248    1136\n",
      "249    1137\n",
      "250    1138\n",
      "251    1139\n",
      "252    1140\n",
      "253    1141\n",
      "254    1142\n",
      "255    1143\n",
      "256    1144\n",
      "257    1145\n",
      "258    1146\n",
      "259    1147\n",
      "260    1148\n",
      "261    1149\n",
      "262    1150\n",
      "263    1151\n",
      "264    1152\n",
      "265    1154\n",
      "266    1155\n",
      "267    1156\n",
      "268    1157\n",
      "269    1158\n",
      "270    1159\n",
      "271    1160\n"
     ]
    }
   ],
   "source": [
    "duplicated_hearts = heart_df[heart_df.duplicated()].reset_index()\n",
    "print(duplicated_hearts)\n",
    "# The index numbers seem interesting in how they are consecutive - are they all that way?\n",
    "print(duplicated_hearts['index'].to_string())"
   ]
  },
  {
   "cell_type": "code",
   "execution_count": 11,
   "id": "c7b66379",
   "metadata": {
    "scrolled": false
   },
   "outputs": [
    {
     "name": "stdout",
     "output_type": "stream",
     "text": [
      "0       163\n",
      "1       604\n",
      "2       887\n",
      "3       888\n",
      "4       889\n",
      "       ... \n",
      "267    1156\n",
      "268    1157\n",
      "269    1158\n",
      "270    1159\n",
      "271    1160\n",
      "Name: index, Length: 272, dtype: int64\n"
     ]
    }
   ],
   "source": [
    "print(duplicated_hearts['index'])"
   ]
  },
  {
   "cell_type": "code",
   "execution_count": 12,
   "id": "94939d22",
   "metadata": {},
   "outputs": [
    {
     "name": "stdout",
     "output_type": "stream",
     "text": [
      "276\n"
     ]
    }
   ],
   "source": [
    "# Yes, it looks like each row after row 887 in heart_df is a duplicate. Calculating if visual analysis was accurate:\n",
    "dup_range = 1160-887 + 1\n",
    "other_dups = 2\n",
    "dup_count_check = dup_range + other_dups\n",
    "print(dup_count_check)\n",
    "# Since my calculated guess of 276 is higher than 272, it looks like not all rows in the range 887-1161 are duplicates."
   ]
  },
  {
   "cell_type": "markdown",
   "id": "6994a4f2",
   "metadata": {},
   "source": [
    "##### What percent of the data are duplicates?"
   ]
  },
  {
   "cell_type": "code",
   "execution_count": 13,
   "id": "77bff17f",
   "metadata": {},
   "outputs": [
    {
     "name": "stdout",
     "output_type": "stream",
     "text": [
      "About 22.86 % of the data is duplicated.\n"
     ]
    }
   ],
   "source": [
    "perc_dup = round(len(duplicated_hearts) / len(heart_df) * 100, 2)\n",
    "print('About', str(perc_dup), '% of the data is duplicated.')\n",
    "# Almost a quarter of the data is duplicated - that is a lot."
   ]
  },
  {
   "cell_type": "markdown",
   "id": "c20cb449",
   "metadata": {},
   "source": [
    "##### How many rows would be left after dropping duplicates?"
   ]
  },
  {
   "cell_type": "code",
   "execution_count": 14,
   "id": "dab4b4a0",
   "metadata": {},
   "outputs": [
    {
     "name": "stdout",
     "output_type": "stream",
     "text": [
      "There will be 918 rows remaining after dropping duplicates.\n"
     ]
    }
   ],
   "source": [
    "remainder = len(heart_df) - len(duplicated_hearts)\n",
    "print('There will be', str(remainder), 'rows remaining after dropping duplicates.')"
   ]
  },
  {
   "cell_type": "markdown",
   "id": "2bfb54cd",
   "metadata": {},
   "source": [
    "##### Discussion on handling duplicates: \n",
    "The likelihood of having so many duplicates, and the fact that they are basically all grouped together, I think it is safe to drop the duplicates.\\\n",
    "It would have been nice to have a 'trial ID' or 'participant ID' variable, since this dataset is a conglomeration of multiple datasets. I think this would help pinpoint why there are duplicates."
   ]
  },
  {
   "cell_type": "code",
   "execution_count": 15,
   "id": "0a81f123",
   "metadata": {},
   "outputs": [
    {
     "name": "stdout",
     "output_type": "stream",
     "text": [
      "918\n"
     ]
    }
   ],
   "source": [
    "heart = heart_df.drop_duplicates()\n",
    "print(len(heart))"
   ]
  },
  {
   "cell_type": "markdown",
   "id": "c21ffe4f",
   "metadata": {},
   "source": [
    "### Handling missing data\n",
    "\n",
    "I noticed two lab values with a min of zero, which indicates that the participant was dead. These lab values are:\n",
    "* systolic_bp: Resting blood pressure (systolic)\n",
    "* cholesterol\n",
    "\n",
    "First, I will see how many rows have a zero in these three columns.\n",
    "\n",
    "#### How many values are missing from the bp and cholesterol variables?"
   ]
  },
  {
   "cell_type": "code",
   "execution_count": 16,
   "id": "e8f5ef35",
   "metadata": {},
   "outputs": [
    {
     "name": "stdout",
     "output_type": "stream",
     "text": [
      "There are 172 rows with a zero.\n",
      "\n"
     ]
    }
   ],
   "source": [
    "zero_heart = heart[(heart['systolic_bp'] == 0) | (heart['cholesterol'] == 0)]\n",
    "print('There are', str(len(zero_heart)), 'rows with a zero.\\n')\n",
    "# 172 rows is unmanageable for me to look at. I will separate these zeros into their own dataframes and take a closer look."
   ]
  },
  {
   "cell_type": "markdown",
   "id": "ae431fca",
   "metadata": {},
   "source": [
    "#### Identify zeros in resting blood pressure (systolic)\n",
    "\n",
    "I am curious what other numbers might be out there, so I will include rows with bp from zero to 100. 'Normal' values can go down to 90, below which is considered low."
   ]
  },
  {
   "cell_type": "code",
   "execution_count": 17,
   "id": "0416bcee",
   "metadata": {},
   "outputs": [
    {
     "name": "stdout",
     "output_type": "stream",
     "text": [
      "There are 13 rows that recorded a resting systolic blood pressure less than 100:\n",
      "\n",
      "     age     sex     pain_type  systolic_bp  cholesterol       fbs  \\\n",
      "228   38    male  asymptomatic           92          117    normal   \n",
      "268   34    male      atypical           98          220    normal   \n",
      "295   32    male       typical           95            0  elevated   \n",
      "305   51    male  asymptomatic           95            0  elevated   \n",
      "310   57    male  asymptomatic           95            0  elevated   \n",
      "315   53    male  asymptomatic           80            0    normal   \n",
      "329   52    male  asymptomatic           95            0  elevated   \n",
      "334   40    male  asymptomatic           95            0  elevated   \n",
      "340   64  female  asymptomatic           95            0  elevated   \n",
      "450   55    male   non-anginal            0            0    normal   \n",
      "520   63    male  asymptomatic           96          305    normal   \n",
      "694   39  female   non-anginal           94          199    normal   \n",
      "834   51    male   non-anginal           94          227    normal   \n",
      "\n",
      "                ekg  max_hr stress_test  ST_depression     ST_slope  \\\n",
      "228          normal     134      angina            2.5         flat   \n",
      "268          normal     150   no angina            0.0    upsloping   \n",
      "295          normal     127   no angina            0.7    upsloping   \n",
      "305          normal     126   no angina            2.2         flat   \n",
      "310          normal     182   no angina            0.7  downsloping   \n",
      "315          normal     141      angina            2.0  downsloping   \n",
      "329          normal      82      angina            0.8         flat   \n",
      "334  ST abnormality     144   no angina            0.0    upsloping   \n",
      "340          normal     145   no angina            1.1  downsloping   \n",
      "450          normal     155   no angina            1.5         flat   \n",
      "520  ST abnormality     121      angina            1.0    upsloping   \n",
      "694          normal     179   no angina            0.0    upsloping   \n",
      "834          normal     154      angina            0.0    upsloping   \n",
      "\n",
      "    heart_disease_category  \n",
      "228          heart disease  \n",
      "268                 normal  \n",
      "295          heart disease  \n",
      "305          heart disease  \n",
      "310          heart disease  \n",
      "315                 normal  \n",
      "329          heart disease  \n",
      "334          heart disease  \n",
      "340          heart disease  \n",
      "450          heart disease  \n",
      "520          heart disease  \n",
      "694                 normal  \n",
      "834                 normal  \n"
     ]
    }
   ],
   "source": [
    "zero_range_bp = heart[heart['systolic_bp'] < 100]\n",
    "\n",
    "print('There are', str(len(zero_range_bp)), 'rows that recorded a resting systolic blood pressure less than 100:\\n')\n",
    "# Thirteen rows is manageable for me to look at.\n",
    "print(zero_range_bp)"
   ]
  },
  {
   "cell_type": "markdown",
   "id": "f8e2839a",
   "metadata": {},
   "source": [
    "#### Review of zeros in zero_range_bp\n",
    "* There was one row with a bp of zero. \n",
    "    * This row also had a zero for cholesterol.\n",
    "* There were 12 other rows with a bp less than 100.\n",
    "    * The lowest value was 80, the rest were over 90.\n",
    "    * Eight of these had a cholesterol of zero.\n",
    "\n",
    "#### Handling missing values\n",
    "* Possible reasons for missing values:\n",
    "    * Device malfunctioned; lost power, ran out of batteries, damaged and unusable\n",
    "    * Protocol not followed and bp/cholesterol were forgotten\n",
    "    * No blood drawn, lab unable to use blood draw, blood draw misplaced or mislabeled, patient refused blood draw\n",
    "* The only variables I could realistically check for were bp and cholesterol.\n",
    "* There was only one row with a missing bp and cholesterol.\n",
    "* There were 171 other rows with a missing cholesterol value.\n",
    "* All other variables had complete information, as far as I could tell.\n",
    "* I will replace zero with NAN for the bp and cholesterol columns."
   ]
  },
  {
   "cell_type": "code",
   "execution_count": 18,
   "id": "ad6dd414",
   "metadata": {},
   "outputs": [
    {
     "name": "stdout",
     "output_type": "stream",
     "text": [
      "age                         0\n",
      "sex                         0\n",
      "pain_type                   0\n",
      "systolic_bp                 1\n",
      "cholesterol               172\n",
      "fbs                         0\n",
      "ekg                         0\n",
      "max_hr                      0\n",
      "stress_test                 0\n",
      "ST_depression               0\n",
      "ST_slope                    0\n",
      "heart_disease_category      0\n",
      "dtype: int64\n",
      "About 19% of data from the cholesterol column is missing.\n"
     ]
    },
    {
     "name": "stderr",
     "output_type": "stream",
     "text": [
      "C:\\Users\\jsbit\\AppData\\Local\\Temp\\ipykernel_12100\\1421904964.py:2: SettingWithCopyWarning: \n",
      "A value is trying to be set on a copy of a slice from a DataFrame.\n",
      "Try using .loc[row_indexer,col_indexer] = value instead\n",
      "\n",
      "See the caveats in the documentation: https://pandas.pydata.org/pandas-docs/stable/user_guide/indexing.html#returning-a-view-versus-a-copy\n",
      "  heart['systolic_bp'] = heart['systolic_bp'].replace( 0, np.nan)\n",
      "C:\\Users\\jsbit\\AppData\\Local\\Temp\\ipykernel_12100\\1421904964.py:3: SettingWithCopyWarning: \n",
      "A value is trying to be set on a copy of a slice from a DataFrame.\n",
      "Try using .loc[row_indexer,col_indexer] = value instead\n",
      "\n",
      "See the caveats in the documentation: https://pandas.pydata.org/pandas-docs/stable/user_guide/indexing.html#returning-a-view-versus-a-copy\n",
      "  heart['cholesterol'] = heart['cholesterol'].replace( 0, np.nan)\n"
     ]
    }
   ],
   "source": [
    "# Replace zero with NAN in the bp and cholesterol columns:\n",
    "heart['systolic_bp'] = heart['systolic_bp'].replace( 0, np.nan)\n",
    "heart['cholesterol'] = heart['cholesterol'].replace( 0, np.nan)\n",
    "\n",
    "# Checking that zeros were replaced:\n",
    "print(heart.isna().sum())\n",
    "\n",
    "# Percent missing values:\n",
    "print('About {}% of data from the cholesterol column is missing.'.format(round(\n",
    "    100*heart['cholesterol'].isna().sum()/len(heart))))\n",
    "# If 1/5 of the data is missing, then the average cholesterol value will go up compared \n",
    "    # to my initial calculations... it was already high at 210"
   ]
  },
  {
   "cell_type": "markdown",
   "id": "487151ec",
   "metadata": {},
   "source": [
    "### Tidying the data\n",
    "* All variables appropriately named\n",
    "* All columns are variables"
   ]
  },
  {
   "cell_type": "markdown",
   "id": "78199217",
   "metadata": {},
   "source": [
    "\n",
    "## V. Statistical analyses\n",
    "In order, I will review:\n",
    "* Descriptive statistics\n",
    "* Value counts/proportions\n",
    "* Distributions with Shapiro-Wilk test\n",
    "* Contingency tables/frequencies\n",
    "* Marginal proportions and Chi Square\n",
    "* Logistic regression\n",
    "\n",
    "### Descriptive statistics"
   ]
  },
  {
   "cell_type": "code",
   "execution_count": 19,
   "id": "da5e3c59",
   "metadata": {},
   "outputs": [
    {
     "data": {
      "text/html": [
       "<div>\n",
       "<style scoped>\n",
       "    .dataframe tbody tr th:only-of-type {\n",
       "        vertical-align: middle;\n",
       "    }\n",
       "\n",
       "    .dataframe tbody tr th {\n",
       "        vertical-align: top;\n",
       "    }\n",
       "\n",
       "    .dataframe thead th {\n",
       "        text-align: right;\n",
       "    }\n",
       "</style>\n",
       "<table border=\"1\" class=\"dataframe\">\n",
       "  <thead>\n",
       "    <tr style=\"text-align: right;\">\n",
       "      <th></th>\n",
       "      <th>age</th>\n",
       "      <th>sex</th>\n",
       "      <th>pain_type</th>\n",
       "      <th>systolic_bp</th>\n",
       "      <th>cholesterol</th>\n",
       "      <th>fbs</th>\n",
       "      <th>ekg</th>\n",
       "      <th>max_hr</th>\n",
       "      <th>stress_test</th>\n",
       "      <th>ST_depression</th>\n",
       "      <th>ST_slope</th>\n",
       "      <th>heart_disease_category</th>\n",
       "    </tr>\n",
       "  </thead>\n",
       "  <tbody>\n",
       "    <tr>\n",
       "      <th>count</th>\n",
       "      <td>918.000000</td>\n",
       "      <td>918</td>\n",
       "      <td>918</td>\n",
       "      <td>917.000000</td>\n",
       "      <td>746.000000</td>\n",
       "      <td>918</td>\n",
       "      <td>918</td>\n",
       "      <td>918.000000</td>\n",
       "      <td>918</td>\n",
       "      <td>918.000000</td>\n",
       "      <td>918</td>\n",
       "      <td>918</td>\n",
       "    </tr>\n",
       "    <tr>\n",
       "      <th>unique</th>\n",
       "      <td>NaN</td>\n",
       "      <td>2</td>\n",
       "      <td>4</td>\n",
       "      <td>NaN</td>\n",
       "      <td>NaN</td>\n",
       "      <td>2</td>\n",
       "      <td>3</td>\n",
       "      <td>NaN</td>\n",
       "      <td>2</td>\n",
       "      <td>NaN</td>\n",
       "      <td>4</td>\n",
       "      <td>2</td>\n",
       "    </tr>\n",
       "    <tr>\n",
       "      <th>top</th>\n",
       "      <td>NaN</td>\n",
       "      <td>male</td>\n",
       "      <td>asymptomatic</td>\n",
       "      <td>NaN</td>\n",
       "      <td>NaN</td>\n",
       "      <td>normal</td>\n",
       "      <td>normal</td>\n",
       "      <td>NaN</td>\n",
       "      <td>no angina</td>\n",
       "      <td>NaN</td>\n",
       "      <td>flat</td>\n",
       "      <td>heart disease</td>\n",
       "    </tr>\n",
       "    <tr>\n",
       "      <th>freq</th>\n",
       "      <td>NaN</td>\n",
       "      <td>725</td>\n",
       "      <td>496</td>\n",
       "      <td>NaN</td>\n",
       "      <td>NaN</td>\n",
       "      <td>704</td>\n",
       "      <td>552</td>\n",
       "      <td>NaN</td>\n",
       "      <td>547</td>\n",
       "      <td>NaN</td>\n",
       "      <td>459</td>\n",
       "      <td>508</td>\n",
       "    </tr>\n",
       "    <tr>\n",
       "      <th>mean</th>\n",
       "      <td>53.510893</td>\n",
       "      <td>NaN</td>\n",
       "      <td>NaN</td>\n",
       "      <td>132.540894</td>\n",
       "      <td>244.635389</td>\n",
       "      <td>NaN</td>\n",
       "      <td>NaN</td>\n",
       "      <td>136.809368</td>\n",
       "      <td>NaN</td>\n",
       "      <td>0.887364</td>\n",
       "      <td>NaN</td>\n",
       "      <td>NaN</td>\n",
       "    </tr>\n",
       "    <tr>\n",
       "      <th>std</th>\n",
       "      <td>9.432617</td>\n",
       "      <td>NaN</td>\n",
       "      <td>NaN</td>\n",
       "      <td>17.999749</td>\n",
       "      <td>59.153524</td>\n",
       "      <td>NaN</td>\n",
       "      <td>NaN</td>\n",
       "      <td>25.460334</td>\n",
       "      <td>NaN</td>\n",
       "      <td>1.066570</td>\n",
       "      <td>NaN</td>\n",
       "      <td>NaN</td>\n",
       "    </tr>\n",
       "    <tr>\n",
       "      <th>min</th>\n",
       "      <td>28.000000</td>\n",
       "      <td>NaN</td>\n",
       "      <td>NaN</td>\n",
       "      <td>80.000000</td>\n",
       "      <td>85.000000</td>\n",
       "      <td>NaN</td>\n",
       "      <td>NaN</td>\n",
       "      <td>60.000000</td>\n",
       "      <td>NaN</td>\n",
       "      <td>-2.600000</td>\n",
       "      <td>NaN</td>\n",
       "      <td>NaN</td>\n",
       "    </tr>\n",
       "    <tr>\n",
       "      <th>25%</th>\n",
       "      <td>47.000000</td>\n",
       "      <td>NaN</td>\n",
       "      <td>NaN</td>\n",
       "      <td>120.000000</td>\n",
       "      <td>207.250000</td>\n",
       "      <td>NaN</td>\n",
       "      <td>NaN</td>\n",
       "      <td>120.000000</td>\n",
       "      <td>NaN</td>\n",
       "      <td>0.000000</td>\n",
       "      <td>NaN</td>\n",
       "      <td>NaN</td>\n",
       "    </tr>\n",
       "    <tr>\n",
       "      <th>50%</th>\n",
       "      <td>54.000000</td>\n",
       "      <td>NaN</td>\n",
       "      <td>NaN</td>\n",
       "      <td>130.000000</td>\n",
       "      <td>237.000000</td>\n",
       "      <td>NaN</td>\n",
       "      <td>NaN</td>\n",
       "      <td>138.000000</td>\n",
       "      <td>NaN</td>\n",
       "      <td>0.600000</td>\n",
       "      <td>NaN</td>\n",
       "      <td>NaN</td>\n",
       "    </tr>\n",
       "    <tr>\n",
       "      <th>75%</th>\n",
       "      <td>60.000000</td>\n",
       "      <td>NaN</td>\n",
       "      <td>NaN</td>\n",
       "      <td>140.000000</td>\n",
       "      <td>275.000000</td>\n",
       "      <td>NaN</td>\n",
       "      <td>NaN</td>\n",
       "      <td>156.000000</td>\n",
       "      <td>NaN</td>\n",
       "      <td>1.500000</td>\n",
       "      <td>NaN</td>\n",
       "      <td>NaN</td>\n",
       "    </tr>\n",
       "    <tr>\n",
       "      <th>max</th>\n",
       "      <td>77.000000</td>\n",
       "      <td>NaN</td>\n",
       "      <td>NaN</td>\n",
       "      <td>200.000000</td>\n",
       "      <td>603.000000</td>\n",
       "      <td>NaN</td>\n",
       "      <td>NaN</td>\n",
       "      <td>202.000000</td>\n",
       "      <td>NaN</td>\n",
       "      <td>6.200000</td>\n",
       "      <td>NaN</td>\n",
       "      <td>NaN</td>\n",
       "    </tr>\n",
       "  </tbody>\n",
       "</table>\n",
       "</div>"
      ],
      "text/plain": [
       "               age   sex     pain_type  systolic_bp  cholesterol     fbs  \\\n",
       "count   918.000000   918           918   917.000000   746.000000     918   \n",
       "unique         NaN     2             4          NaN          NaN       2   \n",
       "top            NaN  male  asymptomatic          NaN          NaN  normal   \n",
       "freq           NaN   725           496          NaN          NaN     704   \n",
       "mean     53.510893   NaN           NaN   132.540894   244.635389     NaN   \n",
       "std       9.432617   NaN           NaN    17.999749    59.153524     NaN   \n",
       "min      28.000000   NaN           NaN    80.000000    85.000000     NaN   \n",
       "25%      47.000000   NaN           NaN   120.000000   207.250000     NaN   \n",
       "50%      54.000000   NaN           NaN   130.000000   237.000000     NaN   \n",
       "75%      60.000000   NaN           NaN   140.000000   275.000000     NaN   \n",
       "max      77.000000   NaN           NaN   200.000000   603.000000     NaN   \n",
       "\n",
       "           ekg      max_hr stress_test  ST_depression ST_slope  \\\n",
       "count      918  918.000000         918     918.000000      918   \n",
       "unique       3         NaN           2            NaN        4   \n",
       "top     normal         NaN   no angina            NaN     flat   \n",
       "freq       552         NaN         547            NaN      459   \n",
       "mean       NaN  136.809368         NaN       0.887364      NaN   \n",
       "std        NaN   25.460334         NaN       1.066570      NaN   \n",
       "min        NaN   60.000000         NaN      -2.600000      NaN   \n",
       "25%        NaN  120.000000         NaN       0.000000      NaN   \n",
       "50%        NaN  138.000000         NaN       0.600000      NaN   \n",
       "75%        NaN  156.000000         NaN       1.500000      NaN   \n",
       "max        NaN  202.000000         NaN       6.200000      NaN   \n",
       "\n",
       "       heart_disease_category  \n",
       "count                     918  \n",
       "unique                      2  \n",
       "top             heart disease  \n",
       "freq                      508  \n",
       "mean                      NaN  \n",
       "std                       NaN  \n",
       "min                       NaN  \n",
       "25%                       NaN  \n",
       "50%                       NaN  \n",
       "75%                       NaN  \n",
       "max                       NaN  "
      ]
     },
     "execution_count": 19,
     "metadata": {},
     "output_type": "execute_result"
    }
   ],
   "source": [
    "heart.describe(include='all')\n",
    "# Much easier to gain insights now that variables are appropriate data types and updated from numbers to descriptions."
   ]
  },
  {
   "cell_type": "markdown",
   "id": "70508c22",
   "metadata": {},
   "source": [
    "#### Comparison to descriptive statistics at the very beginning of the project:\n",
    "* I started with 1190 rows. \n",
    "    * I removed 272 duplicates, and there are now 918 rows. \n",
    "    * There were two variables with missing information: systolic_by and cholesterol. I replaced zero with NAN.\n",
    "* No variables were significantly affected by the changes mentioned above, except:\n",
    "    * Minimum for systolic_bp and cholesterol are no longer zero\n",
    "    * Cholesterol increased\n",
    "        * Mean jumped from 210 to 244 mg/dL (increase of 34 mg/dL or 16%)\n",
    "        * Standard deviation dropped from 101 to 59 (decrease by 42 mg/dL)\n",
    "        * Lowest value now 85 mg/dL\n",
    "        * 25th percentile increased from 188 to 207 mg/dL (increase of 19 mg/dL or 10%)\n",
    "        * 50th and 75th percentile increased 8 and 6 mg/dL or <5%, respectively \n",
    "        * No change in higest value (603 mg/dL)\n",
    "    * A few statistics for max_hr decreased slightly\n",
    "        * Average dipped from 139 tp 136 bpm, <5% change\n",
    "        * 75th percentile dipped from 160 to 156 bpm, <5% change\n",
    "    * A few statistics for ST_depression decreased slightly\n",
    "        * Average decreased from 0.92 to 0.88 mm, < 5% change\n",
    "        * 75th percentile dipped from 1.6 to 1.5 mm, <5% change\n",
    "        \n",
    "#### New observations\n",
    "* Most values came back 'normal':\n",
    "    * The most common chest pain type was 'asymptomatic', with a count of 496, accounting for 54% of values\n",
    "    * The most common fasting blood glucose was 'normal', or below 120 mg/dL, with a count of 704, accounting for 76% of values\n",
    "    * The most common EKG reading was 'normal', with a count of 552, accounting for 60% of values\n",
    "    * The most common stress test result was 'no angina', with a count of 547, accounting for 59% of values\n",
    "    * The most common ST slope was 'flat', with a count of 459, accounting for 50% of values\n",
    "* Values that were outside the normal limits:\n",
    "    * Cholesterol was high; at least 50% of participants had a cholesterol level of over 210 mg/dL\n",
    "    * Blood pressure was elevated; depending on what guidelines you use, about 50% of participants had a resting systolic blood pressure over 130 mmHg\n",
    "    * Most participants were classified as having heart disease, with a count of 508, accounting for 55% of the data      \n",
    "    * There are significantly more males than females. There were 193 females, accounting for only 21% of the data."
   ]
  },
  {
   "cell_type": "markdown",
   "id": "51545ea0",
   "metadata": {},
   "source": [
    "### Value counts/proportions\n",
    "Categorical variables are:\n",
    "* Sex\n",
    "* Chest pain type\n",
    "* Fasting blood glucose\n",
    "* EKG results\n",
    "* Stress test results\n",
    "* ST slope"
   ]
  },
  {
   "cell_type": "code",
   "execution_count": 20,
   "id": "43c2b162",
   "metadata": {
    "scrolled": false
   },
   "outputs": [
    {
     "data": {
      "image/png": "[encoded data removed]",
      "text/plain": [
       "<Figure size 640x480 with 1 Axes>"
      ]
     },
     "metadata": {},
     "output_type": "display_data"
    },
    {
     "name": "stdout",
     "output_type": "stream",
     "text": [
      "Value counts for sex\n",
      "male      725\n",
      "female    193\n",
      "Name: count, dtype: int64 \n",
      " Proportions for sex\n",
      "male      0.78976\n",
      "female    0.21024\n",
      "Name: proportion, dtype: float64 \n",
      "\n"
     ]
    },
    {
     "data": {
      "image/png": "[encoded data removed]",
      "text/plain": [
       "<Figure size 640x480 with 1 Axes>"
      ]
     },
     "metadata": {},
     "output_type": "display_data"
    },
    {
     "name": "stdout",
     "output_type": "stream",
     "text": [
      "Value counts for pain_type\n",
      "asymptomatic    496\n",
      "non-anginal     203\n",
      "atypical        173\n",
      "typical          46\n",
      "Name: count, dtype: int64 \n",
      " Proportions for pain_type\n",
      "asymptomatic    0.540305\n",
      "non-anginal     0.221133\n",
      "atypical        0.188453\n",
      "typical         0.050109\n",
      "Name: proportion, dtype: float64 \n",
      "\n"
     ]
    },
    {
     "data": {
      "image/png": "[encoded data removed]",
      "text/plain": [
       "<Figure size 640x480 with 1 Axes>"
      ]
     },
     "metadata": {},
     "output_type": "display_data"
    },
    {
     "name": "stdout",
     "output_type": "stream",
     "text": [
      "Value counts for fbs\n",
      "normal      704\n",
      "elevated    214\n",
      "Name: count, dtype: int64 \n",
      " Proportions for fbs\n",
      "normal      0.766885\n",
      "elevated    0.233115\n",
      "Name: proportion, dtype: float64 \n",
      "\n"
     ]
    },
    {
     "data": {
      "image/png": "[encoded data removed]",
      "text/plain": [
       "<Figure size 640x480 with 1 Axes>"
      ]
     },
     "metadata": {},
     "output_type": "display_data"
    },
    {
     "name": "stdout",
     "output_type": "stream",
     "text": [
      "Value counts for ekg\n",
      "normal            552\n",
      "LVH               188\n",
      "ST abnormality    178\n",
      "Name: count, dtype: int64 \n",
      " Proportions for ekg\n",
      "normal            0.601307\n",
      "LVH               0.204793\n",
      "ST abnormality    0.193900\n",
      "Name: proportion, dtype: float64 \n",
      "\n"
     ]
    },
    {
     "data": {
      "image/png": "[encoded data removed]",
      "text/plain": [
       "<Figure size 640x480 with 1 Axes>"
      ]
     },
     "metadata": {},
     "output_type": "display_data"
    },
    {
     "name": "stdout",
     "output_type": "stream",
     "text": [
      "Value counts for stress_test\n",
      "no angina    547\n",
      "angina       371\n",
      "Name: count, dtype: int64 \n",
      " Proportions for stress_test\n",
      "no angina    0.595861\n",
      "angina       0.404139\n",
      "Name: proportion, dtype: float64 \n",
      "\n"
     ]
    },
    {
     "data": {
      "image/png": "[encoded data removed]",
      "text/plain": [
       "<Figure size 640x480 with 1 Axes>"
      ]
     },
     "metadata": {},
     "output_type": "display_data"
    },
    {
     "name": "stdout",
     "output_type": "stream",
     "text": [
      "Value counts for ST_slope\n",
      "flat             459\n",
      "upsloping        395\n",
      "downsloping       63\n",
      "not evaluated      1\n",
      "Name: count, dtype: int64 \n",
      " Proportions for ST_slope\n",
      "flat             0.500000\n",
      "upsloping        0.430283\n",
      "downsloping      0.068627\n",
      "not evaluated    0.001089\n",
      "Name: proportion, dtype: float64 \n",
      "\n"
     ]
    },
    {
     "data": {
      "text/plain": [
       "<Figure size 640x480 with 0 Axes>"
      ]
     },
     "metadata": {},
     "output_type": "display_data"
    }
   ],
   "source": [
    "categorical_variables = ['sex', 'pain_type', 'fbs', 'ekg', 'stress_test', 'ST_slope']\n",
    "\n",
    "plt.figure()\n",
    "\n",
    "for variable in categorical_variables:\n",
    "    sns.countplot(heart, x=variable)\n",
    "    plt.show()\n",
    "    plt.clf()\n",
    "    print('Value counts for', heart[variable].value_counts(), '\\n', 'Proportions for', heart[variable].value_counts(normalize=True), '\\n')"
   ]
  },
  {
   "cell_type": "markdown",
   "id": "4b3d9687",
   "metadata": {},
   "source": [
    "#### Observations\n",
    "* I found it interesting that almost as many participants had non-anginal pain as anginal (typical and atypical) pain (203 vs 219 participants)\n",
    "* The EKG results make me wonder what the inclusion criteria were - I would not expect such a high percent (40%) of people with abnormal results in the general public.\n",
    "\n",
    "### Comparison of categorical variables with heart disease outcome"
   ]
  },
  {
   "cell_type": "code",
   "execution_count": 25,
   "id": "28e3b6c9",
   "metadata": {
    "scrolled": false
   },
   "outputs": [
    {
     "name": "stdout",
     "output_type": "stream",
     "text": [
      "\n",
      "Countplot of sex versus heart disease category:\n"
     ]
    },
    {
     "data": {
      "image/png": "[encoded data removed]",
      "text/plain": [
       "<Figure size 640x480 with 1 Axes>"
      ]
     },
     "metadata": {},
     "output_type": "display_data"
    },
    {
     "name": "stdout",
     "output_type": "stream",
     "text": [
      "Contingency tables: Frequencies, expected values, and proportions\n",
      "\n",
      "Frequencies\n",
      " heart_disease_category  heart disease  normal\n",
      "sex                                          \n",
      "female                             50     143\n",
      "male                              458     267\n",
      "\n",
      "Expected values\n",
      " [[106.80174292  86.19825708]\n",
      " [401.19825708 323.80174292]]\n",
      "\n",
      "Frequencies minus expected values\n",
      " heart_disease_category  heart disease     normal\n",
      "sex                                             \n",
      "female                     -56.801743  56.801743\n",
      "male                        56.801743 -56.801743\n",
      "\n",
      "Proportions\n",
      " heart_disease_category  heart disease  normal\n",
      "sex                                          \n",
      "female                          25.91   74.09\n",
      "male                            63.17   36.83\n",
      "\n",
      "Statistical significance: Chi-squared test p-vale:  4.5976174508091635e-20\n",
      "\n",
      "Countplot of pain_type versus heart disease category:\n"
     ]
    },
    {
     "data": {
      "image/png": "[encoded data removed]",
      "text/plain": [
       "<Figure size 640x480 with 1 Axes>"
      ]
     },
     "metadata": {},
     "output_type": "display_data"
    },
    {
     "name": "stdout",
     "output_type": "stream",
     "text": [
      "Contingency tables: Frequencies, expected values, and proportions\n",
      "\n",
      "Frequencies\n",
      " heart_disease_category  heart disease  normal\n",
      "pain_type                                    \n",
      "asymptomatic                      392     104\n",
      "atypical                           24     149\n",
      "non-anginal                        72     131\n",
      "typical                            20      26\n",
      "\n",
      "Expected values\n",
      " [[274.47494553 221.52505447]\n",
      " [ 95.73420479  77.26579521]\n",
      " [112.33551198  90.66448802]\n",
      " [ 25.45533769  20.54466231]]\n",
      "\n",
      "Frequencies minus expected values\n",
      " heart_disease_category  heart disease      normal\n",
      "pain_type                                        \n",
      "asymptomatic               117.525054 -117.525054\n",
      "atypical                   -71.734205   71.734205\n",
      "non-anginal                -40.335512   40.335512\n",
      "typical                     -5.455338    5.455338\n",
      "\n",
      "Proportions\n",
      " heart_disease_category  heart disease  normal\n",
      "pain_type                                    \n",
      "asymptomatic                    79.03   20.97\n",
      "atypical                        13.87   86.13\n",
      "non-anginal                     35.47   64.53\n",
      "typical                         43.48   56.52\n",
      "\n",
      "Statistical significance: Chi-squared test p-vale:  8.08372842808765e-58\n",
      "\n",
      "Countplot of fbs versus heart disease category:\n"
     ]
    },
    {
     "data": {
      "image/png": "[encoded data removed]",
      "text/plain": [
       "<Figure size 640x480 with 1 Axes>"
      ]
     },
     "metadata": {},
     "output_type": "display_data"
    },
    {
     "name": "stdout",
     "output_type": "stream",
     "text": [
      "Contingency tables: Frequencies, expected values, and proportions\n",
      "\n",
      "Frequencies\n",
      " heart_disease_category  heart disease  normal\n",
      "fbs                                          \n",
      "elevated                          170      44\n",
      "normal                            338     366\n",
      "\n",
      "Expected values\n",
      " [[118.42265795  95.57734205]\n",
      " [389.57734205 314.42265795]]\n",
      "\n",
      "Frequencies minus expected values\n",
      " heart_disease_category  heart disease     normal\n",
      "fbs                                             \n",
      "elevated                    51.577342 -51.577342\n",
      "normal                     -51.577342  51.577342\n",
      "\n",
      "Proportions\n",
      " heart_disease_category  heart disease  normal\n",
      "fbs                                          \n",
      "elevated                        79.44   20.56\n",
      "normal                          48.01   51.99\n",
      "\n",
      "Statistical significance: Chi-squared test p-vale:  1.0573018731810034e-15\n",
      "\n",
      "Countplot of ekg versus heart disease category:\n"
     ]
    },
    {
     "data": {
      "image/png": "[encoded data removed]",
      "text/plain": [
       "<Figure size 640x480 with 1 Axes>"
      ]
     },
     "metadata": {},
     "output_type": "display_data"
    },
    {
     "name": "stdout",
     "output_type": "stream",
     "text": [
      "Contingency tables: Frequencies, expected values, and proportions\n",
      "\n",
      "Frequencies\n",
      " heart_disease_category  heart disease  normal\n",
      "ekg                                          \n",
      "LVH                               106      82\n",
      "ST abnormality                    117      61\n",
      "normal                            285     267\n",
      "\n",
      "Expected values\n",
      " [[104.03485839  83.96514161]\n",
      " [ 98.50108932  79.49891068]\n",
      " [305.46405229 246.53594771]]\n",
      "\n",
      "Frequencies minus expected values\n",
      " heart_disease_category  heart disease     normal\n",
      "ekg                                             \n",
      "LVH                          1.965142  -1.965142\n",
      "ST abnormality              18.498911 -18.498911\n",
      "normal                     -20.464052  20.464052\n",
      "\n",
      "Proportions\n",
      " heart_disease_category  heart disease  normal\n",
      "ekg                                          \n",
      "LVH                             56.38   43.62\n",
      "ST abnormality                  65.73   34.27\n",
      "normal                          51.63   48.37\n",
      "\n",
      "Statistical significance: Chi-squared test p-vale:  0.004229232816754488\n",
      "\n",
      "Countplot of stress_test versus heart disease category:\n"
     ]
    },
    {
     "data": {
      "image/png": "[encoded data removed]",
      "text/plain": [
       "<Figure size 640x480 with 1 Axes>"
      ]
     },
     "metadata": {},
     "output_type": "display_data"
    },
    {
     "name": "stdout",
     "output_type": "stream",
     "text": [
      "Contingency tables: Frequencies, expected values, and proportions\n",
      "\n",
      "Frequencies\n",
      " heart_disease_category  heart disease  normal\n",
      "stress_test                                  \n",
      "angina                            316      55\n",
      "no angina                         192     355\n",
      "\n",
      "Expected values\n",
      " [[205.30283224 165.69716776]\n",
      " [302.69716776 244.30283224]]\n",
      "\n",
      "Frequencies minus expected values\n",
      " heart_disease_category  heart disease      normal\n",
      "stress_test                                      \n",
      "angina                     110.697168 -110.697168\n",
      "no angina                 -110.697168  110.697168\n",
      "\n",
      "Proportions\n",
      " heart_disease_category  heart disease  normal\n",
      "stress_test                                  \n",
      "angina                          85.18   14.82\n",
      "no angina                       35.10   64.90\n",
      "\n",
      "Statistical significance: Chi-squared test p-vale:  2.907808387659878e-50\n",
      "\n",
      "Countplot of ST_slope versus heart disease category:\n"
     ]
    },
    {
     "data": {
      "image/png": "[encoded data removed]",
      "text/plain": [
       "<Figure size 640x480 with 1 Axes>"
      ]
     },
     "metadata": {},
     "output_type": "display_data"
    },
    {
     "name": "stdout",
     "output_type": "stream",
     "text": [
      "Contingency tables: Frequencies, expected values, and proportions\n",
      "\n",
      "Frequencies\n",
      " heart_disease_category  heart disease  normal\n",
      "ST_slope                                     \n",
      "downsloping                        49      14\n",
      "flat                              380      79\n",
      "not evaluated                       1       0\n",
      "upsloping                          78     317\n",
      "\n",
      "Expected values\n",
      " [[ 34.8627451   28.1372549 ]\n",
      " [254.         205.        ]\n",
      " [  0.55337691   0.44662309]\n",
      " [218.583878   176.416122  ]]\n",
      "\n",
      "Frequencies minus expected values\n",
      " heart_disease_category  heart disease      normal\n",
      "ST_slope                                         \n",
      "downsloping                 14.137255  -14.137255\n",
      "flat                       126.000000 -126.000000\n",
      "not evaluated                0.446623   -0.446623\n",
      "upsloping                 -140.583878  140.583878\n",
      "\n",
      "Proportions\n",
      " heart_disease_category  heart disease  normal\n",
      "ST_slope                                     \n",
      "downsloping                     77.78   22.22\n",
      "flat                            82.79   17.21\n",
      "not evaluated                  100.00    0.00\n",
      "upsloping                       19.75   80.25\n",
      "\n",
      "Statistical significance: Chi-squared test p-vale:  7.348941512630764e-77\n"
     ]
    },
    {
     "data": {
      "text/plain": [
       "<Figure size 640x480 with 0 Axes>"
      ]
     },
     "metadata": {},
     "output_type": "display_data"
    }
   ],
   "source": [
    "pval_list = []\n",
    "plt.figure()\n",
    "\n",
    "for variable in categorical_variables:\n",
    "    print('\\nCountplot of {} versus heart disease category:'.format(variable))\n",
    "    sns.countplot(heart, x=variable, hue='heart_disease_category')\n",
    "    plt.show()\n",
    "    plt.clf()\n",
    "    print('Contingency tables: Frequencies, expected values, and proportions\\n')\n",
    "    frequencies = pd.crosstab(heart[variable], heart.heart_disease_category)\n",
    "    print('Frequencies\\n', frequencies)\n",
    "    chi2, pval, dof, expected = chi2_contingency(frequencies)\n",
    "    print('\\nExpected values\\n', expected)\n",
    "    print('\\nFrequencies minus expected values\\n', frequencies-expected) # To help see where significance might be\n",
    "    proportions = pd.crosstab(heart[variable], heart.heart_disease_category, normalize='index').round(4)*100\n",
    "    print('\\nProportions\\n', proportions)\n",
    "    pval_list.append(pval)\n",
    "    if pval < 0.05:\n",
    "        print('\\nStatistical significance: Chi-squared test p-vale: ', pval)\n",
    "    else:\n",
    "        print('\\nNo statistical significance: Chi-squared test p-vale: ', pval)"
   ]
  },
  {
   "cell_type": "markdown",
   "id": "7a7d1fa2",
   "metadata": {},
   "source": [
    "#### Comparing frequencies with expected values\n"
   ]
  },
  {
   "cell_type": "code",
   "execution_count": null,
   "id": "1f472adb",
   "metadata": {},
   "outputs": [],
   "source": [
    "do tyhis next look at frequencies minus expected valuies"
   ]
  },
  {
   "cell_type": "markdown",
   "id": "be7ed408",
   "metadata": {},
   "source": [
    "#### Comparing p-values"
   ]
  },
  {
   "cell_type": "code",
   "execution_count": 22,
   "id": "df2f5a63",
   "metadata": {},
   "outputs": [
    {
     "name": "stdout",
     "output_type": "stream",
     "text": [
      "List of p-values sorted from smallest to largest:\n",
      "              0            1\n",
      "5  7.348942e-77     ST_slope\n",
      "1  8.083728e-58    pain_type\n",
      "4  2.907808e-50  stress_test\n",
      "0  4.597617e-20          sex\n",
      "2  1.057302e-15          fbs\n",
      "3  4.229233e-03          ekg\n"
     ]
    }
   ],
   "source": [
    "pval_series = pd.Series(pval_list)\n",
    "categorical_series = pd.Series(categorical_variables)\n",
    "\n",
    "pval_df = pd.concat([pval_series, categorical_series], axis=1)\n",
    "sorted_pval = pval_df.sort_values(by=[0])\n",
    "\n",
    "print('List of p-values sorted from smallest to largest:')\n",
    "# Sorting is rather arbitrary at this point, since p-values are either significant or not significant; not scalable\n",
    "print(sorted_pval)"
   ]
  },
  {
   "cell_type": "markdown",
   "id": "2daa65bd",
   "metadata": {},
   "source": [
    "### Distribution of values\n",
    "Numerical values are:\n",
    "* Age\n",
    "* Resting systolic blood pressure\n",
    "* Cholesterol\n",
    "* Max heart rate\n",
    "* ST depression"
   ]
  },
  {
   "cell_type": "code",
   "execution_count": 23,
   "id": "242efe0d",
   "metadata": {
    "scrolled": false
   },
   "outputs": [
    {
     "data": {
      "image/png": "[encoded data removed]",
      "text/plain": [
       "<Figure size 640x480 with 1 Axes>"
      ]
     },
     "metadata": {},
     "output_type": "display_data"
    },
    {
     "name": "stdout",
     "output_type": "stream",
     "text": [
      "Reject the null hypothesis:\n",
      "\tThe p-value is less than 0.05 ( 2.170366860809736e-05 ) \n",
      "\tThe statistic is 0.9910141825675964\n"
     ]
    },
    {
     "data": {
      "image/png": "[encoded data removed]",
      "text/plain": [
       "<Figure size 640x480 with 1 Axes>"
      ]
     },
     "metadata": {},
     "output_type": "display_data"
    },
    {
     "name": "stdout",
     "output_type": "stream",
     "text": [
      "Failed to reject the null hypothesis: The p-value is greater than 0.05 ( 1.0 )\n"
     ]
    },
    {
     "data": {
      "image/png": "[encoded data removed]",
      "text/plain": [
       "<Figure size 640x480 with 1 Axes>"
      ]
     },
     "metadata": {},
     "output_type": "display_data"
    },
    {
     "name": "stdout",
     "output_type": "stream",
     "text": [
      "Failed to reject the null hypothesis: The p-value is greater than 0.05 ( 1.0 )\n"
     ]
    },
    {
     "data": {
      "image/png": "[encoded data removed]",
      "text/plain": [
       "<Figure size 640x480 with 1 Axes>"
      ]
     },
     "metadata": {},
     "output_type": "display_data"
    },
    {
     "name": "stdout",
     "output_type": "stream",
     "text": [
      "Reject the null hypothesis:\n",
      "\tThe p-value is less than 0.05 ( 0.0001683219597907737 ) \n",
      "\tThe statistic is 0.9926717877388\n"
     ]
    },
    {
     "data": {
      "image/png": "[encoded data removed]",
      "text/plain": [
       "<Figure size 640x480 with 1 Axes>"
      ]
     },
     "metadata": {},
     "output_type": "display_data"
    },
    {
     "name": "stdout",
     "output_type": "stream",
     "text": [
      "Reject the null hypothesis:\n",
      "\tThe p-value is less than 0.05 ( 8.26949925434661e-28 ) \n",
      "\tThe statistic is 0.8598772287368774\n"
     ]
    },
    {
     "data": {
      "text/plain": [
       "<Figure size 640x480 with 0 Axes>"
      ]
     },
     "metadata": {},
     "output_type": "display_data"
    }
   ],
   "source": [
    "numerical_variables = ['age', 'systolic_bp', 'cholesterol', 'max_hr', 'ST_depression']\n",
    "\n",
    "plt.figure()\n",
    "for variable in numerical_variables:\n",
    "    sns.histplot(x=variable, data=heart)\n",
    "    plt.show()\n",
    "    plt.clf()\n",
    "    res = stats.shapiro(heart[variable])\n",
    "    if res.pvalue < 0.05:\n",
    "        print('Reject the null hypothesis:\\n\\tThe p-value is less than 0.05 (', str(res.pvalue), ')', \n",
    "              '\\n\\tThe statistic is', str(res.statistic))\n",
    "    else: print('Failed to reject the null hypothesis: The p-value is greater than 0.05 (', str(res.pvalue), ')')"
   ]
  },
  {
   "cell_type": "markdown",
   "id": "fb503d0b",
   "metadata": {},
   "source": [
    "#### Observations:\n",
    "* Distributions do not appear to be normal.\n",
    "* Age: The mode was the 55 years-old bin.\n",
    "* Resting systolic blood pressure: \n",
    "    * It seems that there are bumps near nice round numbers: 120, 130, 140 mmHg, etc.\n",
    "    * Some positive skew\n",
    "* Cholesterol: \n",
    "    * There are a number of outliers, resulting in positive skewness\n",
    "    * Positive kurtosis\n",
    "* Max heart rate is the most normal-looking, except for the bimodal peaks.\n",
    "* ST depression: Large majority were normal (zero), it looked like mist results were cliustered near whole numbers.\n",
    "\n",
    "#### Shapiro-Wilk discussion:\n",
    "* I would like to do this more out of curiosity and practice than statistical necessity.\n",
    "* The dataset contains less than 1,000 rows, so the test should function properly.\n",
    "* The purpose of this project is not for the statistics; I will arbitrarily use p<0.05 as an indicator of significance, knowing there are other factors that could impact the size of the p-value.\n",
    "\n",
    "#### Shapiro-Wilk results:\n",
    "Rejected the null hypothesis (non-normal distribution):\n",
    "* Age\n",
    "* Max heart rate\n",
    "* ST depression\n",
    "\n",
    "Failed to reject the null (could mean normal distribution):\n",
    "* Systolic blood pressure\n",
    "* Cholesterol"
   ]
  },
  {
   "cell_type": "code",
   "execution_count": 24,
   "id": "b2e0ea93",
   "metadata": {},
   "outputs": [
    {
     "ename": "SyntaxError",
     "evalue": "invalid syntax (2705973237.py, line 1)",
     "output_type": "error",
     "traceback": [
      "\u001b[1;36m  Cell \u001b[1;32mIn[24], line 1\u001b[1;36m\u001b[0m\n\u001b[1;33m    next time do stats on quantitativbe veauitraelbrtywasfds\u001b[0m\n\u001b[1;37m         ^\u001b[0m\n\u001b[1;31mSyntaxError\u001b[0m\u001b[1;31m:\u001b[0m invalid syntax\n"
     ]
    }
   ],
   "source": [
    "next time do stats on quantitativbe veauitraelbrtywasfds"
   ]
  },
  {
   "cell_type": "markdown",
   "id": "7cdc4868",
   "metadata": {},
   "source": []
  }
 ],
 "metadata": {
  "kernelspec": {
   "display_name": "Python 3 (ipykernel)",
   "language": "python",
   "name": "python3"
  },
  "language_info": {
   "codemirror_mode": {
    "name": "ipython",
    "version": 3
   },
   "file_extension": ".py",
   "mimetype": "text/x-python",
   "name": "python",
   "nbconvert_exporter": "python",
   "pygments_lexer": "ipython3",
   "version": "3.11.5"
  }
 },
 "nbformat": 4,
 "nbformat_minor": 5
}
