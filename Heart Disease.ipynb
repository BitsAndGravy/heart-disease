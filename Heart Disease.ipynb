{
 "cells": [
  {
   "cell_type": "markdown",
   "id": "f3612a8d",
   "metadata": {},
   "source": [
    "# Heart Disease"
   ]
  },
  {
   "cell_type": "markdown",
   "id": "3dc370d4",
   "metadata": {},
   "source": [
    "## Project Tasks\n",
    "\n",
    "### Define your scope\n",
    "My primary goal is to continue using the skills I learned on Codecademy. Specifically, I want to clean/tidy data, look for trends, and create a visualization that tells a story. This is a low-key project; machine learning and data mining algorithms are outside of my scope.\n",
    "\n",
    "### Decide on a question or topic\n",
    "I decided to choose a topic related to medicine - heart disease. I dispense all kinds of medications that treat heart conditions on a daily basis.\n",
    "\n",
    "### Find a dataset\n",
    "I went to kaggle and found the dataset \"Heart Disease Dataset\" provided by Mexwell (link here https://www.kaggle.com/datasets/mexwell/heart-disease-dataset).\n",
    "\n",
    "### Define your problem\n",
    "After a brief glance at the dataset and the documentation, I would like to find what makes people with heart disease different from those without heart disease. \n",
    "\n",
    "### Load and check data\n",
    "Documentation is clear and I can identify what each variable is measuring. There are 1,190 observations, which is sufficient for my purposes, but does not meet power and we can't extrapolate findings to the general public.\n",
    "\n",
    "### Data wrangling and tidying (in progress)\n",
    "Kaggle gave this dataset a score of 10.00 out of 10.00 for usability, so I don't have to worry about finding anything wrong. I will go through the motions just for practice.\n",
    "\n",
    "### Find the story (to do)\n",
    "What, in one sentence, do you want your audience to take away from your project? You may have to create all of your visualizations, do all of your explorations, and even get feedback before you know what it is. But, take a moment to decide the one thing people should take away from your project and make that the first thing. Make that story the easiest one to find.\n",
    "\n",
    "### Communicate your findings (to do)\n",
    "This could be in the shape of a report, a Tableau Dashboard, a slide deck, etc. The best way to decide is to imagine your audience. Who are they? Where do you envision reaching them? What is the best medium for that?\\\n",
    "Do you want to reach other people interested in your topic? Do you want to persuade someone to care about something? Do you want to focus on business stakeholders? Where might you find each group? Tailor your project to that imagined scenario.\\\n",
    "From there, you can start to create a project to communicate your story with them.\n",
    "\n",
    "### Wrap up (to do)\n",
    "This step might be the most impactful for finding a job. Now that you’ve written your report, created your deck, or built your dashboard, check your work. Go through and proofread. Try to view your project from wherever you decided to host it. Make sure that all of the links work, and ask a friend (or visit the forums) to find someone to go through it and tell you if there are any inconsistencies, jumps of logic, or confusing parts. This final round of checks is essential for creating a polished project."
   ]
  },
  {
   "cell_type": "code",
   "execution_count": 3,
   "id": "6eb1c8ba",
   "metadata": {},
   "outputs": [],
   "source": [
    "import pandas as pd\n",
    "heart_disease_csv = pd.read_csv(r'C:\\Users\\jsbit\\OneDrive\\Documents\\Coding 2023\\Git\\heart-disease\\heart_statlog_cleveland_hungary_final.csv', encoding_errors='replace')"
   ]
  },
  {
   "cell_type": "code",
   "execution_count": 5,
   "id": "41afdd85",
   "metadata": {},
   "outputs": [
    {
     "data": {
      "text/plain": [
       "Index(['age', 'sex', 'chest pain type', 'resting bp s', 'cholesterol',\n",
       "       'fasting blood sugar', 'resting ecg', 'max heart rate',\n",
       "       'exercise angina', 'oldpeak', 'ST slope', 'target'],\n",
       "      dtype='object')"
      ]
     },
     "execution_count": 5,
     "metadata": {},
     "output_type": "execute_result"
    }
   ],
   "source": [
    "heart_disease_csv.columns"
   ]
  },
  {
   "cell_type": "code",
   "execution_count": 8,
   "id": "f241f7b2",
   "metadata": {},
   "outputs": [
    {
     "data": {
      "text/plain": [
       "1190"
      ]
     },
     "execution_count": 8,
     "metadata": {},
     "output_type": "execute_result"
    }
   ],
   "source": [
    "len(heart_disease_csv)"
   ]
  }
 ],
 "metadata": {
  "kernelspec": {
   "display_name": "Python 3 (ipykernel)",
   "language": "python",
   "name": "python3"
  },
  "language_info": {
   "codemirror_mode": {
    "name": "ipython",
    "version": 3
   },
   "file_extension": ".py",
   "mimetype": "text/x-python",
   "name": "python",
   "nbconvert_exporter": "python",
   "pygments_lexer": "ipython3",
   "version": "3.11.5"
  }
 },
 "nbformat": 4,
 "nbformat_minor": 5
}
